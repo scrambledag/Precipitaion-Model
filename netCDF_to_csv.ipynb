{
 "cells": [
  {
   "cell_type": "code",
   "execution_count": 4,
   "id": "b7f78ce2",
   "metadata": {},
   "outputs": [],
   "source": [
    "# !pip install netCDF4\n",
    "# !pip install tqdm\n",
    "import netCDF4 as nc\n",
    "import numpy as np\n",
    "import pandas as pd\n",
    "from tqdm import tqdm"
   ]
  },
  {
   "cell_type": "code",
   "execution_count": 5,
   "id": "456dbf16",
   "metadata": {},
   "outputs": [],
   "source": [
    "def read_files(year):\n",
    "    months = [\"01\", \"02\", \"03\", '04', '05', '06', \"07\", '08', '09', '10', '11', '12']\n",
    "    for month in months:\n",
    "        path = f\"./rainfalldata/COBRA_{year}-{month}_1DM_v1.0.nc\"\n",
    "        data = nc.Dataset(path)\n",
    "        yield data, month"
   ]
  },
  {
   "cell_type": "code",
   "execution_count": 53,
   "id": "83002070",
   "metadata": {},
   "outputs": [],
   "source": [
    "# for d, _ in read_files(2010):\n",
    "#     break"
   ]
  },
  {
   "cell_type": "code",
   "execution_count": 54,
   "id": "48d95292",
   "metadata": {},
   "outputs": [],
   "source": [
    "# d"
   ]
  },
  {
   "cell_type": "code",
   "execution_count": 44,
   "id": "7a0b4e75",
   "metadata": {},
   "outputs": [
    {
     "data": {
      "text/plain": [
       "(10.0, 10.0, 100.0)"
      ]
     },
     "execution_count": 44,
     "metadata": {},
     "output_type": "execute_result"
    }
   ],
   "source": [
    "# # np.sum(d['precip'][:])\n",
    "# time = d['time'][:].data\n",
    "# p1, p2 = np.array(d['lat'][:]), np.array(d['lon'][:])\n",
    "# p1 = 1.0*(p1<10) * (1.0*(0<p1))\n",
    "# p1 = p1.reshape(-1, 1)\n",
    "# p2 = 1.0*(p2<10) * (1.0*(0<p2))\n",
    "# p2 = p2.reshape(-1, 1)\n",
    "# p3 = p1 * p2.T\n",
    "# # p1.shape, p2.shape, p3.shape\n",
    "# np.sum(p1), np.sum(p2), np.sum(p3)"
   ]
  },
  {
   "cell_type": "code",
   "execution_count": 6,
   "id": "1c992cb2",
   "metadata": {},
   "outputs": [],
   "source": [
    "def get_grid(data, lat_r, lon_r):\n",
    "    lats = np.array(data['lat'][:])\n",
    "    lons = np.array(data['lon'][:])\n",
    "    p1 = (1.0*(lat_r[0]<=lats)) * (1.0*(lats<lat_r[1]))\n",
    "    p2 = (1.0*(lon_r[0]<=lons)) * (1.0*(lons<lon_r[1]))\n",
    "    p1 = p1.reshape(-1, 1)\n",
    "    p2 = p2.reshape(-1, 1)\n",
    "    p3 = p1*p2.T\n",
    "    p3 = 1.0*(p3>0)\n",
    "    return p3\n",
    "\n",
    "\n",
    "cols = ['year', \"01\", \"02\", \"03\", '04', '05', '06', \"07\", '08', '09', '10', '11', '12']\n",
    "results = pd.DataFrame({i: [] for i in cols})\n",
    "#            continent, (lat_down, lat_up), (lon_left, lon_right)\n",
    "ranges = ([  'asia1',    (45,         70),    (55,         165)],\n",
    "          [  'asia2',    (30,         45),    (30,         145)],\n",
    "          [  'asia3',    (10,         30),    (35,         125)],\n",
    "          [  'asia4',    (-10,        10),    (95,         130)],\n",
    "          [  'africa1',  (5,          35),    (-20,         35)],\n",
    "          [  'africa2',  (-35,         5),    (10,          40)],\n",
    "          [  'europe1',  (60,         70),    (5,           55)],\n",
    "          [  'europe2',  (40,         60),    (-10,         50)],\n",
    "          [  'na1',      (30,         45),    (-125,       -75)],\n",
    "          [  'na2',      (45,         60),    (-135,       -60)],\n",
    "          [  'na3',      (15,       23.5),    (-105,       -75)],\n",
    "          [  'na4',      (60,         80),    (-120,       -30)],\n",
    "          [  'na5',      (60,         70),    (-165,       -70)],\n",
    "          [  'na6',      (23.5,       30),    (-110,       -95)],\n",
    "          [  'sa1',      (0,          10),    (-80,        -50)],\n",
    "          [  'sa2',      (-20,         0),    (-80,        -40)],\n",
    "          [  'sa3',      (-50,       -20),    (-75,        -65)],\n",
    "          [  'o',        (-40,       -15),    (115,        150)],)\n",
    "\n",
    "for continent, lat_r, lon_r in ranges:\n",
    "    for year in range(2000, 2018):\n",
    "        d = {'year': year}\n",
    "        for data, month in read_files(year):\n",
    "            grid = get_grid(data, lat_r, lon_r)\n",
    "            rainfall = grid * np.array(data['precip'][:])\n",
    "            d[f'{month}'] = np.sum(rainfall)\n",
    "        results = results.append(d, ignore_index=True)\n",
    "\n",
    "    results.to_csv(f\"rain_{continent}.csv\", index=False, header=False)"
   ]
  },
  {
   "cell_type": "code",
   "execution_count": 50,
   "id": "6c60b7d7",
   "metadata": {},
   "outputs": [
    {
     "name": "stdout",
     "output_type": "stream",
     "text": [
      "['asia', (0, 10), (0, 20)]\n",
      "[]\n"
     ]
    }
   ],
   "source": [
    "for i in ranges:\n",
    "    print(i)"
   ]
  },
  {
   "cell_type": "code",
   "execution_count": null,
   "id": "d8b70a96",
   "metadata": {},
   "outputs": [],
   "source": []
  }
 ],
 "metadata": {
  "kernelspec": {
   "display_name": "Python 3",
   "language": "python",
   "name": "python3"
  },
  "language_info": {
   "codemirror_mode": {
    "name": "ipython",
    "version": 3
   },
   "file_extension": ".py",
   "mimetype": "text/x-python",
   "name": "python",
   "nbconvert_exporter": "python",
   "pygments_lexer": "ipython3",
   "version": "3.8.8"
  }
 },
 "nbformat": 4,
 "nbformat_minor": 5
}
